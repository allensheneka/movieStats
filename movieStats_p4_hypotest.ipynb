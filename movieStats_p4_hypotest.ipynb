{
 "cells": [
  {
   "cell_type": "markdown",
   "id": "2139d6d1",
   "metadata": {},
   "source": [
    "# Project 3, Part 4 - Hypothesis Testing\n",
    "\n",
    "## Author:  Sheneka Allen\n",
    "\n"
   ]
  },
  {
   "cell_type": "code",
   "execution_count": null,
   "id": "b915e05f",
   "metadata": {},
   "outputs": [],
   "source": [
    "# For part 4 of the project, you will be using your MySQL database from part 3 \n",
    "# to answer meaningful questions for your stakeholder. They want you to use \n",
    "# your hypothesis testing and statistics knowledge to answer 3 questions about \n",
    "# what makes a successful movie.\n",
    "\n",
    "# Questions to Answer\n",
    "\n",
    "# The stakeholder's first question is: does the MPAA rating of a movie (G/PG/PG-13/R) \n",
    "# affect how much revenue the movie generates?\n",
    "\n",
    "# They want you to perform a statistical test to get a mathematically-supported answer.\n",
    "# They want you to report if you found a significant difference between ratings.\n",
    "# If so, what was the p-value of you analysis?\n",
    "# And which rating earns the most revenue?\n",
    "# They want you to prepare a visualization that supports your finding.\n",
    "# Think of 2 additional hypotheses to test that your stakeholder may want to know.\n",
    "\n",
    "# Examples:\n",
    "\n",
    "# Do movies that are over 2.5 hours long earn more revenue than movies that \n",
    "# are 1.5 hours long (or less)?\n",
    "\n",
    "# Do movies released in 2020 earn less revenue than movies released in 2018?\n",
    "# How do the years compare for movie ratings?\n",
    "# Do some movie genres earn more revenue than others?\n",
    "# Are some genres higher rated than others? etc.\n",
    "\n",
    "# Specifications\n",
    "\n",
    "# Your Data\n",
    "\n",
    "# Retrieve additional movie data to add to your SQL database.\n",
    "# Use the TMDB API again and extract data for additional years, but define \n",
    "# a smaller (but logical)  period of time to use for your analyses \n",
    "# (e.g. last 10 years, 2010-2019 (pre-pandemic, etc) to keep from taking \n",
    "# >24hrs for processing!\n",
    "\n",
    "\n",
    "# Deliverables\n",
    "\n",
    "# You should use the same project repository you have been using for Parts 1-3 (for your portfolio).\n",
    "# Create a new notebook in your project repository just for the hypothesis testing \n",
    "# (like \"Part 4 - Hypothesis Testing.ipynb\")\n",
    "# Make sure the results and visualization for all 3 hypotheses are in your notebook."
   ]
  },
  {
   "cell_type": "code",
   "execution_count": 1,
   "id": "9e9fbff3",
   "metadata": {},
   "outputs": [],
   "source": [
    "# import libraries\n",
    "import numpy as np\n",
    "import pandas as pd\n",
    "import matplotlib.pyplot as plt\n",
    "import seaborn as sns\n",
    "\n",
    "import os, json, math, time\n",
    "import tmdbsimple as tmdb\n",
    "from tqdm.notebook import tqdm_notebook\n",
    "\n",
    "import pymysql\n",
    "pymysql.install_as_MySQLdb()\n",
    "\n",
    "from urllib.parse import quote_plus as urlquote # must have for special char pwd\n",
    "from sqlalchemy import create_engine\n",
    "from sqlalchemy_utils import create_database, database_exists"
   ]
  },
  {
   "cell_type": "code",
   "execution_count": 9,
   "id": "1a4285e7",
   "metadata": {},
   "outputs": [
    {
     "name": "stdout",
     "output_type": "stream",
     "text": [
      "<class 'pandas.core.frame.DataFrame'>\n",
      "RangeIndex: 205530 entries, 0 to 205529\n",
      "Data columns (total 9 columns):\n",
      " #   Column          Non-Null Count   Dtype \n",
      "---  ------          --------------   ----- \n",
      " 0   tconst          205530 non-null  object\n",
      " 1   titleType       205530 non-null  object\n",
      " 2   primaryTitle    205530 non-null  object\n",
      " 3   originalTitle   205530 non-null  object\n",
      " 4   isAdult         205530 non-null  int64 \n",
      " 5   startYear       205530 non-null  int64 \n",
      " 6   endYear         205530 non-null  int64 \n",
      " 7   runtimeMinutes  205530 non-null  int64 \n",
      " 8   genres          205530 non-null  object\n",
      "dtypes: int64(4), object(5)\n",
      "memory usage: 14.1+ MB\n"
     ]
    }
   ],
   "source": [
    "# load basics_cleaned .csv.gz file into basics variable\n",
    "basics = pd.read_csv('Data/title_basics_cleaned.csv.gz')\n",
    "basics.info()"
   ]
  },
  {
   "cell_type": "code",
   "execution_count": 11,
   "id": "931b0570",
   "metadata": {},
   "outputs": [
    {
     "data": {
      "text/html": [
       "<div>\n",
       "<style scoped>\n",
       "    .dataframe tbody tr th:only-of-type {\n",
       "        vertical-align: middle;\n",
       "    }\n",
       "\n",
       "    .dataframe tbody tr th {\n",
       "        vertical-align: top;\n",
       "    }\n",
       "\n",
       "    .dataframe thead th {\n",
       "        text-align: right;\n",
       "    }\n",
       "</style>\n",
       "<table border=\"1\" class=\"dataframe\">\n",
       "  <thead>\n",
       "    <tr style=\"text-align: right;\">\n",
       "      <th></th>\n",
       "      <th>tconst</th>\n",
       "      <th>titleType</th>\n",
       "      <th>primaryTitle</th>\n",
       "      <th>originalTitle</th>\n",
       "      <th>isAdult</th>\n",
       "      <th>startYear</th>\n",
       "      <th>endYear</th>\n",
       "      <th>runtimeMinutes</th>\n",
       "      <th>genres</th>\n",
       "    </tr>\n",
       "  </thead>\n",
       "  <tbody>\n",
       "    <tr>\n",
       "      <th>0</th>\n",
       "      <td>tt0011801</td>\n",
       "      <td>movie</td>\n",
       "      <td>Tötet nicht mehr</td>\n",
       "      <td>Tötet nicht mehr</td>\n",
       "      <td>0</td>\n",
       "      <td>2019</td>\n",
       "      <td>0</td>\n",
       "      <td>0</td>\n",
       "      <td>Action,Crime</td>\n",
       "    </tr>\n",
       "    <tr>\n",
       "      <th>1</th>\n",
       "      <td>tt0015414</td>\n",
       "      <td>movie</td>\n",
       "      <td>La tierra de los toros</td>\n",
       "      <td>La tierra de los toros</td>\n",
       "      <td>0</td>\n",
       "      <td>2000</td>\n",
       "      <td>0</td>\n",
       "      <td>60</td>\n",
       "      <td>Missing</td>\n",
       "    </tr>\n",
       "    <tr>\n",
       "      <th>2</th>\n",
       "      <td>tt0035423</td>\n",
       "      <td>movie</td>\n",
       "      <td>Kate &amp; Leopold</td>\n",
       "      <td>Kate &amp; Leopold</td>\n",
       "      <td>0</td>\n",
       "      <td>2001</td>\n",
       "      <td>0</td>\n",
       "      <td>118</td>\n",
       "      <td>Comedy,Fantasy,Romance</td>\n",
       "    </tr>\n",
       "    <tr>\n",
       "      <th>3</th>\n",
       "      <td>tt0062336</td>\n",
       "      <td>movie</td>\n",
       "      <td>The Tango of the Widower and Its Distorting Mi...</td>\n",
       "      <td>El Tango del Viudo y Su Espejo Deformante</td>\n",
       "      <td>0</td>\n",
       "      <td>2020</td>\n",
       "      <td>0</td>\n",
       "      <td>70</td>\n",
       "      <td>Drama</td>\n",
       "    </tr>\n",
       "    <tr>\n",
       "      <th>4</th>\n",
       "      <td>tt0069049</td>\n",
       "      <td>movie</td>\n",
       "      <td>The Other Side of the Wind</td>\n",
       "      <td>The Other Side of the Wind</td>\n",
       "      <td>0</td>\n",
       "      <td>2018</td>\n",
       "      <td>0</td>\n",
       "      <td>122</td>\n",
       "      <td>Drama</td>\n",
       "    </tr>\n",
       "  </tbody>\n",
       "</table>\n",
       "</div>"
      ],
      "text/plain": [
       "      tconst titleType                                       primaryTitle  \\\n",
       "0  tt0011801     movie                                   Tötet nicht mehr   \n",
       "1  tt0015414     movie                             La tierra de los toros   \n",
       "2  tt0035423     movie                                     Kate & Leopold   \n",
       "3  tt0062336     movie  The Tango of the Widower and Its Distorting Mi...   \n",
       "4  tt0069049     movie                         The Other Side of the Wind   \n",
       "\n",
       "                               originalTitle  isAdult  startYear  endYear  \\\n",
       "0                           Tötet nicht mehr        0       2019        0   \n",
       "1                     La tierra de los toros        0       2000        0   \n",
       "2                             Kate & Leopold        0       2001        0   \n",
       "3  El Tango del Viudo y Su Espejo Deformante        0       2020        0   \n",
       "4                 The Other Side of the Wind        0       2018        0   \n",
       "\n",
       "   runtimeMinutes                  genres  \n",
       "0               0            Action,Crime  \n",
       "1              60                 Missing  \n",
       "2             118  Comedy,Fantasy,Romance  \n",
       "3              70                   Drama  \n",
       "4             122                   Drama  "
      ]
     },
     "execution_count": 11,
     "metadata": {},
     "output_type": "execute_result"
    }
   ],
   "source": [
    "basics.head()"
   ]
  },
  {
   "cell_type": "code",
   "execution_count": 18,
   "id": "695962a9",
   "metadata": {},
   "outputs": [
    {
     "data": {
      "text/plain": [
       "array([2019, 2000, 2001, 2020, 2018, 2005, 2004, 2016, 2002, 2017, 2006,\n",
       "       2008, 2009, 2003, 2007, 2010, 2012, 2011, 2015, 2021, 2013, 2014])"
      ]
     },
     "execution_count": 18,
     "metadata": {},
     "output_type": "execute_result"
    }
   ],
   "source": [
    "basics.startYear.unique()"
   ]
  },
  {
   "cell_type": "code",
   "execution_count": 2,
   "id": "371740ad",
   "metadata": {},
   "outputs": [
    {
     "data": {
      "text/plain": [
       "dict_keys(['API Key', 'Authorization'])"
      ]
     },
     "execution_count": 2,
     "metadata": {},
     "output_type": "execute_result"
    }
   ],
   "source": [
    "# Load my TMDb login credentials\n",
    "with open('/Users/shenekaallen/.secret/tmdb_api.json', 'r') as f:\n",
    "    login = json.load(f)\n",
    "    \n",
    "## Display the keys of the loaded dict\n",
    "login.keys()"
   ]
  },
  {
   "cell_type": "code",
   "execution_count": 3,
   "id": "34783e0c",
   "metadata": {},
   "outputs": [],
   "source": [
    "# set the tmdbapi variable equal to my unique TMDb \"API Key(v3 auth)\" entry in JSON file\n",
    "tmdb.API_KEY =  login['API Key']"
   ]
  },
  {
   "cell_type": "markdown",
   "id": "0350c161",
   "metadata": {},
   "source": [
    "## Setup to use TMDB API\n",
    "\n",
    "Define functions, Specify movie Years to extract and folder to save results\n",
    "\n",
    "### Defined Function: get_movie_with_rating"
   ]
  },
  {
   "cell_type": "code",
   "execution_count": 4,
   "id": "4c2f657f",
   "metadata": {},
   "outputs": [],
   "source": [
    "# function that 1) accepts the movie_id as an argument and\n",
    "# 2) returns a dictionary of results that includes certification\n",
    "def get_movie_with_rating(movie_id):\n",
    "    ## Get movie and release dates\n",
    "    movie = tmdb.Movies(movie_id)\n",
    "    ## Construct output dict\n",
    "    movie_info = movie.info()\n",
    "    releases = movie.releases()\n",
    "    # Loop through countries in releases\n",
    "    for c in releases['countries']:\n",
    "        # if the country abbreviation==US\n",
    "        if c['iso_3166_1' ] =='US':\n",
    "            ## save a \"certification\" key in the info dict with the certification\n",
    "            movie_info['certification'] = c['certification']\n",
    "    return movie_info"
   ]
  },
  {
   "cell_type": "markdown",
   "id": "b5d989c0",
   "metadata": {},
   "source": [
    "### Defined Function: write_json"
   ]
  },
  {
   "cell_type": "code",
   "execution_count": 5,
   "id": "3113d600",
   "metadata": {},
   "outputs": [],
   "source": [
    "def write_json(new_data, filename):\n",
    "    \"\"\"Adapted from: https://www.geeksforgeeks.org/append-to-json-file-using-python/\"\"\"\n",
    "    \n",
    "    with open(filename,'r+') as file:\n",
    "        # First we load existing data into a dict.\n",
    "        file_data = json.load(file)\n",
    "        ## Choose extend or append\n",
    "        if (type(new_data) == list) & (type(file_data) == list):\n",
    "            file_data.extend(new_data)\n",
    "        else:\n",
    "            file_data.append(new_data)\n",
    "        # Sets file's current position at offset.\n",
    "        file.seek(0)\n",
    "        # convert back to json.\n",
    "        json.dump(file_data, file)"
   ]
  },
  {
   "cell_type": "code",
   "execution_count": 6,
   "id": "ff817854",
   "metadata": {},
   "outputs": [],
   "source": [
    "# Define years to collect from movie db and store in a variable\n",
    "YEARS_TO_GET = [2009,2019]"
   ]
  },
  {
   "cell_type": "code",
   "execution_count": 7,
   "id": "107f4525",
   "metadata": {},
   "outputs": [
    {
     "data": {
      "text/plain": [
       "['title_basics_cleaned.csv.gz',\n",
       " 'title.akas.tsv.gz',\n",
       " '.DS_Store',\n",
       " 'title_ratings_cleaned.csv.gz',\n",
       " 'title.akas.tsv',\n",
       " 'tmdb_api_results_2000.json',\n",
       " 'final_tmdb_data_2000.csv.gz',\n",
       " 'title.basics.tsv.gz',\n",
       " 'tmdb_api_results_2001.json',\n",
       " 'title.ratings.tsv.gz',\n",
       " 'final_tmdb_data_2001.csv.gz',\n",
       " '.ipynb_checkpoints',\n",
       " 'tmdb_results_combined.csv.gz',\n",
       " 'title_akas_cleaned.csv.gz']"
      ]
     },
     "execution_count": 7,
     "metadata": {},
     "output_type": "execute_result"
    }
   ],
   "source": [
    "# Specify folder for saving data in Python vs Jupyter Notebook\n",
    "FOLDER = \"Data/\"\n",
    "# list current files in Data/\n",
    "os.listdir(FOLDER)"
   ]
  },
  {
   "cell_type": "markdown",
   "id": "2b108c80",
   "metadata": {},
   "source": [
    "### Test data extraction for 2009 & 2019 Year Movie Releases\n",
    "\n",
    "### OUTER Loop to collect data by YEAR\n",
    "\n",
    "Checks if JSON file exists, if not, creates and writes select query data to the file.\n",
    "\n",
    "Identifies the designated FOLDER (Data/) and names the file based on the current year. Saves data in separate .csv.gz files BY YEAR.\n",
    "\n",
    "### INNER Loop to collect index and movie ID"
   ]
  },
  {
   "cell_type": "code",
   "execution_count": 26,
   "id": "0081fd46",
   "metadata": {},
   "outputs": [
    {
     "data": {
      "application/vnd.jupyter.widget-view+json": {
       "model_id": "9cbe889e9c5e44498548a7354ec121b5",
       "version_major": 2,
       "version_minor": 0
      },
      "text/plain": [
       "YEARS:   0%|          | 0/2 [00:00<?, ?it/s]"
      ]
     },
     "metadata": {},
     "output_type": "display_data"
    },
    {
     "name": "stdout",
     "output_type": "stream",
     "text": [
      "The year 2009 file already exists.\n"
     ]
    },
    {
     "data": {
      "application/vnd.jupyter.widget-view+json": {
       "model_id": "7931d8ea9ea44631ba0152df096a70f8",
       "version_major": 2,
       "version_minor": 0
      },
      "text/plain": [
       "Movies from 2009:   0%|          | 0/8670 [00:00<?, ?it/s]"
      ]
     },
     "metadata": {},
     "output_type": "display_data"
    },
    {
     "name": "stdout",
     "output_type": "stream",
     "text": [
      "The year 2019 file does not exist.  Creating empty file.\n"
     ]
    },
    {
     "data": {
      "application/vnd.jupyter.widget-view+json": {
       "model_id": "1e31f565147344b6be9f1fc05c7e7da6",
       "version_major": 2,
       "version_minor": 0
      },
      "text/plain": [
       "Movies from 2019:   0%|          | 0/13358 [00:00<?, ?it/s]"
      ]
     },
     "metadata": {},
     "output_type": "display_data"
    }
   ],
   "source": [
    "# Start of OUTER loop\n",
    "for YEAR in tqdm_notebook(YEARS_TO_GET,desc='YEARS',position=0):\n",
    "    \n",
    "    #Defining the JSON file to store results for year\n",
    "    JSON_FILE = f'{FOLDER}tmdb_api_results_{YEAR}.json'\n",
    "    # Check if file exists\n",
    "    file_exists = os.path.isfile(JSON_FILE)\n",
    "     # If it does not exist: create it\n",
    "    if file_exists == False:\n",
    "        ## If it does not exist:\n",
    "        print('The year', YEAR, 'file does not exist.  Creating empty file.')\n",
    "        # save an empty dict with just \"imdb_id\" to the new json file.\n",
    "        with open(JSON_FILE,'w') as f:\n",
    "            json.dump([{'imdb_id':0}],f)\n",
    "    else:\n",
    "        print('The year', YEAR, 'file already exists.')\n",
    "        \n",
    "\n",
    "    #Saving new year as the current df\n",
    "    df = basics.loc[basics['startYear'] == YEAR].copy()\n",
    "    # saving movie ids to list\n",
    "    movie_id = df['tconst'].copy()#.to_list()\n",
    " \n",
    "    # Load existing data from json into a dataframe called \"previous_basics\"\n",
    "    previous_df = pd.read_json(JSON_FILE)\n",
    "    # filter out any ids that are already in the JSON_FILE\n",
    "    movie_id_to_get = movie_id[~movie_id.isin(previous_df['imdb_id'])]\n",
    "        \n",
    "    # Get index and movie id from list\n",
    "    # This loop uses 2 functions: 1) \"get_movie_with_rating\" to add the certification to the .info results \n",
    "    # and 2) \"write_json\" to extend/append the results to the .json file. \n",
    "    \n",
    "    # INNER Loop\n",
    "    for movie_id in tqdm_notebook(movie_id_to_get,\n",
    "                          desc=f'Movies from {YEAR}',\n",
    "                          position=1,\n",
    "                          leave=True):\n",
    "        # Attempt to retrieve the data for the movie id\n",
    "        try:\n",
    "            temp = get_movie_with_rating(movie_id)  #This uses your pre-made function\n",
    "            # Append/extend results to existing file using a pre-made function\n",
    "            write_json(temp,JSON_FILE)\n",
    "            # Short 20 ms sleep to prevent overwhelming server\n",
    "            time.sleep(0.02)\n",
    "            # If it fails,  make a dict with just the id and None for certification.\n",
    "        except Exception as e: \n",
    "            continue\n",
    "\n",
    "    ## Saving filtered file as csv.gz\n",
    "    final_year_df = pd.read_json(JSON_FILE)\n",
    "    final_year_df.to_csv(f\"{FOLDER}final_tmdb_data_{YEAR}.csv.gz\", compression=\"gzip\", index=False)"
   ]
  },
  {
   "cell_type": "code",
   "execution_count": null,
   "id": "dc42636b",
   "metadata": {},
   "outputs": [],
   "source": []
  }
 ],
 "metadata": {
  "kernelspec": {
   "display_name": "Python (dojo-env)",
   "language": "python",
   "name": "dojo-env"
  },
  "language_info": {
   "codemirror_mode": {
    "name": "ipython",
    "version": 3
   },
   "file_extension": ".py",
   "mimetype": "text/x-python",
   "name": "python",
   "nbconvert_exporter": "python",
   "pygments_lexer": "ipython3",
   "version": "3.7.12"
  },
  "toc": {
   "base_numbering": 1,
   "nav_menu": {},
   "number_sections": false,
   "sideBar": true,
   "skip_h1_title": false,
   "title_cell": "Table of Contents",
   "title_sidebar": "Contents",
   "toc_cell": false,
   "toc_position": {},
   "toc_section_display": true,
   "toc_window_display": true
  }
 },
 "nbformat": 4,
 "nbformat_minor": 5
}
