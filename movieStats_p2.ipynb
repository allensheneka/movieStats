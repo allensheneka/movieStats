{
 "cells": [
  {
   "cell_type": "markdown",
   "id": "c97e6411",
   "metadata": {},
   "source": [
    "## Part 2\n",
    "\n",
    "Use TMDb API to collect budget, revenue, and MPAA Rating (G/PG/PG-13/R) or \"Certification\" data for analysis."
   ]
  },
  {
   "cell_type": "code",
   "execution_count": 1,
   "id": "e2408b2a",
   "metadata": {},
   "outputs": [
    {
     "name": "stdout",
     "output_type": "stream",
     "text": [
      "Requirement already satisfied: tmdbsimple in /Users/shenekaallen/opt/anaconda3/envs/dojo-env/lib/python3.7/site-packages (2.9.1)\n",
      "Requirement already satisfied: requests in /Users/shenekaallen/opt/anaconda3/envs/dojo-env/lib/python3.7/site-packages (from tmdbsimple) (2.27.1)\n",
      "Requirement already satisfied: charset-normalizer~=2.0.0 in /Users/shenekaallen/opt/anaconda3/envs/dojo-env/lib/python3.7/site-packages (from requests->tmdbsimple) (2.0.12)\n",
      "Requirement already satisfied: urllib3<1.27,>=1.21.1 in /Users/shenekaallen/opt/anaconda3/envs/dojo-env/lib/python3.7/site-packages (from requests->tmdbsimple) (1.26.8)\n",
      "Requirement already satisfied: certifi>=2017.4.17 in /Users/shenekaallen/opt/anaconda3/envs/dojo-env/lib/python3.7/site-packages (from requests->tmdbsimple) (2022.6.15)\n",
      "Requirement already satisfied: idna<4,>=2.5 in /Users/shenekaallen/opt/anaconda3/envs/dojo-env/lib/python3.7/site-packages (from requests->tmdbsimple) (3.3)\n"
     ]
    }
   ],
   "source": [
    "# Install tmdbsimple (only need to run once)\n",
    "\n",
    "# this package will make it easier to extract the data we need without manually \n",
    "# constructing the URLs for our API calls.\n",
    "!pip install tmdbsimple"
   ]
  },
  {
   "cell_type": "code",
   "execution_count": 2,
   "id": "02a71267",
   "metadata": {},
   "outputs": [
    {
     "name": "stdout",
     "output_type": "stream",
     "text": [
      "Requirement already satisfied: tqdm in /Users/shenekaallen/opt/anaconda3/envs/dojo-env/lib/python3.7/site-packages (4.64.0)\r\n"
     ]
    }
   ],
   "source": [
    "# package that provides PROGRESS BAR for processing data from returned API calls\n",
    "!pip install tqdm"
   ]
  },
  {
   "cell_type": "code",
   "execution_count": 3,
   "id": "d67592c4",
   "metadata": {},
   "outputs": [],
   "source": [
    "# import libraries\n",
    "import numpy as np\n",
    "import pandas as pd\n",
    "import matplotlib.pyplot as plt\n",
    "import seaborn as sns\n",
    "\n",
    "import os, json, math, time\n",
    "import tmdbsimple as tmdb\n",
    "from tqdm.notebook import tqdm_notebook"
   ]
  },
  {
   "cell_type": "code",
   "execution_count": 4,
   "id": "a82c7831",
   "metadata": {},
   "outputs": [
    {
     "name": "stdout",
     "output_type": "stream",
     "text": [
      "<class 'pandas.core.frame.DataFrame'>\n",
      "RangeIndex: 205530 entries, 0 to 205529\n",
      "Data columns (total 9 columns):\n",
      " #   Column          Non-Null Count   Dtype \n",
      "---  ------          --------------   ----- \n",
      " 0   tconst          205530 non-null  object\n",
      " 1   titleType       205530 non-null  object\n",
      " 2   primaryTitle    205530 non-null  object\n",
      " 3   originalTitle   205530 non-null  object\n",
      " 4   isAdult         205530 non-null  int64 \n",
      " 5   startYear       205530 non-null  int64 \n",
      " 6   endYear         205530 non-null  int64 \n",
      " 7   runtimeMinutes  205530 non-null  int64 \n",
      " 8   genres          205530 non-null  object\n",
      "dtypes: int64(4), object(5)\n",
      "memory usage: 14.1+ MB\n"
     ]
    }
   ],
   "source": [
    "# load basics_cleaned .csv.gz file into basics variable\n",
    "basics = pd.read_csv('Data/title_basics_cleaned.csv.gz')\n",
    "basics.info()"
   ]
  },
  {
   "cell_type": "code",
   "execution_count": 5,
   "id": "f6148f55",
   "metadata": {},
   "outputs": [
    {
     "data": {
      "text/plain": [
       "tt0011801    1\n",
       "tt3626442    1\n",
       "tt3626214    1\n",
       "tt3626230    1\n",
       "tt3626312    1\n",
       "            ..\n",
       "tt1417086    1\n",
       "tt1417090    1\n",
       "tt1417097    1\n",
       "tt1417101    1\n",
       "tt9916730    1\n",
       "Name: tconst, Length: 205530, dtype: int64"
      ]
     },
     "execution_count": 5,
     "metadata": {},
     "output_type": "execute_result"
    }
   ],
   "source": [
    "# check to see if imdb_id or movie_ids in basics df\n",
    "basics['tconst'].value_counts()"
   ]
  },
  {
   "cell_type": "code",
   "execution_count": 6,
   "id": "d6d3b4ce",
   "metadata": {},
   "outputs": [
    {
     "data": {
      "text/plain": [
       "2000     4283\n",
       "2001     4453\n",
       "2002     4585\n",
       "2003     4612\n",
       "2004     4829\n",
       "2005     5526\n",
       "2006     5925\n",
       "2007     6410\n",
       "2008     7358\n",
       "2009     8670\n",
       "2010     9636\n",
       "2011    10469\n",
       "2020    11247\n",
       "2012    11344\n",
       "2013    12213\n",
       "2015    12991\n",
       "2014    13050\n",
       "2021    13087\n",
       "2019    13358\n",
       "2016    13618\n",
       "2017    13893\n",
       "2018    13973\n",
       "Name: startYear, dtype: int64"
      ]
     },
     "execution_count": 6,
     "metadata": {},
     "output_type": "execute_result"
    }
   ],
   "source": [
    "# verify startYear values in basics df\n",
    "basics['startYear'].value_counts().sort_values()"
   ]
  },
  {
   "cell_type": "code",
   "execution_count": 7,
   "id": "d92bc97d",
   "metadata": {},
   "outputs": [
    {
     "data": {
      "text/plain": [
       "2000     4283\n",
       "2001     4453\n",
       "2002     4585\n",
       "2003     4612\n",
       "2004     4829\n",
       "2005     5526\n",
       "2006     5925\n",
       "2007     6410\n",
       "2008     7358\n",
       "2009     8670\n",
       "2010     9636\n",
       "2011    10469\n",
       "2020    11247\n",
       "2012    11344\n",
       "2013    12213\n",
       "2015    12991\n",
       "2014    13050\n",
       "2021    13087\n",
       "2019    13358\n",
       "2016    13618\n",
       "2017    13893\n",
       "2018    13973\n",
       "Name: startYear, dtype: int64"
      ]
     },
     "execution_count": 7,
     "metadata": {},
     "output_type": "execute_result"
    }
   ],
   "source": [
    "# Replace the \\N value in startYear and change column datatype to int\n",
    "basics['startYear'] = basics['startYear'].replace(r'\\N', 0)\n",
    "basics['startYear'] = basics['startYear'].astype(int)\n",
    "basics['startYear'].value_counts().sort_values()"
   ]
  },
  {
   "cell_type": "code",
   "execution_count": 8,
   "id": "b71ad6f2",
   "metadata": {},
   "outputs": [
    {
     "name": "stdout",
     "output_type": "stream",
     "text": [
      "<class 'pandas.core.frame.DataFrame'>\n",
      "RangeIndex: 205530 entries, 0 to 205529\n",
      "Data columns (total 9 columns):\n",
      " #   Column          Non-Null Count   Dtype \n",
      "---  ------          --------------   ----- \n",
      " 0   tconst          205530 non-null  object\n",
      " 1   titleType       205530 non-null  object\n",
      " 2   primaryTitle    205530 non-null  object\n",
      " 3   originalTitle   205530 non-null  object\n",
      " 4   isAdult         205530 non-null  int64 \n",
      " 5   startYear       205530 non-null  int64 \n",
      " 6   endYear         205530 non-null  int64 \n",
      " 7   runtimeMinutes  205530 non-null  int64 \n",
      " 8   genres          205530 non-null  object\n",
      "dtypes: int64(4), object(5)\n",
      "memory usage: 14.1+ MB\n"
     ]
    }
   ],
   "source": [
    "basics.info()"
   ]
  },
  {
   "cell_type": "code",
   "execution_count": 9,
   "id": "c0f80f8b",
   "metadata": {},
   "outputs": [
    {
     "data": {
      "text/plain": [
       "dict_keys(['API Key', 'Authorization'])"
      ]
     },
     "execution_count": 9,
     "metadata": {},
     "output_type": "execute_result"
    }
   ],
   "source": [
    "# Load my TMDb login credentials\n",
    "with open('/Users/shenekaallen/.secret/tmdb_api.json', 'r') as f:\n",
    "    login = json.load(f)\n",
    "    \n",
    "## Display the keys of the loaded dict\n",
    "login.keys()"
   ]
  },
  {
   "cell_type": "code",
   "execution_count": 10,
   "id": "459c58bc",
   "metadata": {},
   "outputs": [],
   "source": [
    "# set the tmdbapi variable equal to my unique TMDb \"API Key(v3 auth)\" entry in JSON file\n",
    "tmdb.API_KEY =  login['API Key']"
   ]
  },
  {
   "cell_type": "markdown",
   "id": "63838cae",
   "metadata": {},
   "source": [
    "### Practice:  Test data extraction"
   ]
  },
  {
   "cell_type": "code",
   "execution_count": 11,
   "id": "5b11ebd1",
   "metadata": {},
   "outputs": [],
   "source": [
    "## make a movie object using the .Movies function from tmdb\n",
    "movie = tmdb.Movies(603)"
   ]
  },
  {
   "cell_type": "code",
   "execution_count": 12,
   "id": "a5773f1a",
   "metadata": {},
   "outputs": [
    {
     "data": {
      "text/plain": [
       "{'adult': False,\n",
       " 'backdrop_path': '/y9wuhlrqSHvhTLNVNwKMKe6HZzY.jpg',\n",
       " 'belongs_to_collection': {'id': 2344,\n",
       "  'name': 'The Matrix Collection',\n",
       "  'poster_path': '/bV9qTVHTVf0gkW0j7p7M0ILD4pG.jpg',\n",
       "  'backdrop_path': '/bRm2DEgUiYciDw3myHuYFInD7la.jpg'},\n",
       " 'budget': 63000000,\n",
       " 'genres': [{'id': 28, 'name': 'Action'},\n",
       "  {'id': 878, 'name': 'Science Fiction'}],\n",
       " 'homepage': 'http://www.warnerbros.com/matrix',\n",
       " 'id': 603,\n",
       " 'imdb_id': 'tt0133093',\n",
       " 'original_language': 'en',\n",
       " 'original_title': 'The Matrix',\n",
       " 'overview': 'Set in the 22nd century, The Matrix tells the story of a computer hacker who joins a group of underground insurgents fighting the vast and powerful computers who now rule the earth.',\n",
       " 'popularity': 73.952,\n",
       " 'poster_path': '/f89U3ADr1oiB1s9GkdPOEpXUk5H.jpg',\n",
       " 'production_companies': [{'id': 79,\n",
       "   'logo_path': '/tpFpsqbleCzEE2p5EgvUq6ozfCA.png',\n",
       "   'name': 'Village Roadshow Pictures',\n",
       "   'origin_country': 'US'},\n",
       "  {'id': 174,\n",
       "   'logo_path': '/IuAlhI9eVC9Z8UQWOIDdWRKSEJ.png',\n",
       "   'name': 'Warner Bros. Pictures',\n",
       "   'origin_country': 'US'},\n",
       "  {'id': 372,\n",
       "   'logo_path': None,\n",
       "   'name': 'Groucho II Film Partnership',\n",
       "   'origin_country': ''},\n",
       "  {'id': 1885,\n",
       "   'logo_path': '/tXMFoE8AtNdnFzWOW0aCLwl7xxS.png',\n",
       "   'name': 'Silver Pictures',\n",
       "   'origin_country': 'US'}],\n",
       " 'production_countries': [{'iso_3166_1': 'US',\n",
       "   'name': 'United States of America'}],\n",
       " 'release_date': '1999-03-30',\n",
       " 'revenue': 463517383,\n",
       " 'runtime': 136,\n",
       " 'spoken_languages': [{'english_name': 'English',\n",
       "   'iso_639_1': 'en',\n",
       "   'name': 'English'}],\n",
       " 'status': 'Released',\n",
       " 'tagline': 'Welcome to the Real World.',\n",
       " 'title': 'The Matrix',\n",
       " 'video': False,\n",
       " 'vote_average': 8.2,\n",
       " 'vote_count': 21732}"
      ]
     },
     "execution_count": 12,
     "metadata": {},
     "output_type": "execute_result"
    }
   ],
   "source": [
    "## movie objects has a .info dictionary \n",
    "response = movie.info()\n",
    "response"
   ]
  },
  {
   "cell_type": "code",
   "execution_count": 13,
   "id": "d1ed78a8",
   "metadata": {},
   "outputs": [
    {
     "data": {
      "text/plain": [
       "50000000"
      ]
     },
     "execution_count": 13,
     "metadata": {},
     "output_type": "execute_result"
    }
   ],
   "source": [
    "# What was the budget of Tom and Jerry which had imdb id of \"tt1361336\"?\n",
    "movie = tmdb.Movies('tt1361336')\n",
    "info = movie.info()\n",
    "info['budget']"
   ]
  },
  {
   "cell_type": "code",
   "execution_count": 14,
   "id": "57249a6e",
   "metadata": {},
   "outputs": [],
   "source": [
    "# Extract movie certification/MPAA Rating from package README for current id\n",
    "movie = tmdb.Movies('tt1361336')\n",
    "# save the .info .releases dictionaries\n",
    "info = movie.info()\n",
    "releases = movie.releases()\n",
    "# Loop through countries in releases\n",
    "for c in releases['countries']:\n",
    "    # if the country abbreviation==US\n",
    "    if c['iso_3166_1' ] =='US':\n",
    "        ## save a \"certification\" key in the info dict with the certification\n",
    "       info['certification'] = c['certification']\n"
   ]
  },
  {
   "cell_type": "code",
   "execution_count": 15,
   "id": "d1690ed7",
   "metadata": {},
   "outputs": [
    {
     "data": {
      "text/plain": [
       "'PG'"
      ]
     },
     "execution_count": 15,
     "metadata": {},
     "output_type": "execute_result"
    }
   ],
   "source": [
    "info['certification']"
   ]
  },
  {
   "cell_type": "markdown",
   "id": "51eb0883",
   "metadata": {},
   "source": [
    "## Setup to use TMDB API\n",
    "\n",
    "Define functions, Specify movie Years to extract and folder to save results"
   ]
  },
  {
   "cell_type": "markdown",
   "id": "fea0052e",
   "metadata": {},
   "source": [
    "### Defined Function:  get_movie_with_rating "
   ]
  },
  {
   "cell_type": "code",
   "execution_count": 16,
   "id": "5150d7ac",
   "metadata": {},
   "outputs": [],
   "source": [
    "# function that 1) accepts the movie_id as an argument and\n",
    "# 2) returns a dictionary of results that includes certification\n",
    "def get_movie_with_rating(movie_id):\n",
    "    ## Get movie and release dates\n",
    "    movie = tmdb.Movies(movie_id)\n",
    "    ## Construct output dict\n",
    "    movie_info = movie.info()\n",
    "    releases = movie.releases()\n",
    "    # Loop through countries in releases\n",
    "    for c in releases['countries']:\n",
    "        # if the country abbreviation==US\n",
    "        if c['iso_3166_1' ] =='US':\n",
    "            ## save a \"certification\" key in the info dict with the certification\n",
    "            movie_info['certification'] = c['certification']\n",
    "    return movie_info\n"
   ]
  },
  {
   "cell_type": "markdown",
   "id": "81e4f637",
   "metadata": {},
   "source": [
    "### Defined Function:  write_json"
   ]
  },
  {
   "cell_type": "code",
   "execution_count": 17,
   "id": "fdb47276",
   "metadata": {},
   "outputs": [],
   "source": [
    "def write_json(new_data, filename):\n",
    "    \"\"\"Adapted from: https://www.geeksforgeeks.org/append-to-json-file-using-python/\"\"\"\n",
    "    \n",
    "    with open(filename,'r+') as file:\n",
    "        # First we load existing data into a dict.\n",
    "        file_data = json.load(file)\n",
    "        ## Choose extend or append\n",
    "        if (type(new_data) == list) & (type(file_data) == list):\n",
    "            file_data.extend(new_data)\n",
    "        else:\n",
    "            file_data.append(new_data)\n",
    "        # Sets file's current position at offset.\n",
    "        file.seek(0)\n",
    "        # convert back to json.\n",
    "        json.dump(file_data, file)"
   ]
  },
  {
   "cell_type": "code",
   "execution_count": 18,
   "id": "86c25ef7",
   "metadata": {},
   "outputs": [],
   "source": [
    "# Define years to collect from movie db and store in a variable\n",
    "YEARS_TO_GET = [2000,2001]"
   ]
  },
  {
   "cell_type": "code",
   "execution_count": 19,
   "id": "61f342e8",
   "metadata": {},
   "outputs": [
    {
     "data": {
      "text/plain": [
       "['title_basics_cleaned.csv.gz',\n",
       " 'title.akas.tsv.gz',\n",
       " '.DS_Store',\n",
       " 'title_ratings_cleaned.csv.gz',\n",
       " 'title.akas.tsv',\n",
       " 'tmdb_api_results_2000.json',\n",
       " 'final_tmdb_data_2000.csv.gz',\n",
       " 'title.basics.tsv.gz',\n",
       " 'tmdb_api_results_2001.json',\n",
       " 'title.ratings.tsv.gz',\n",
       " 'final_tmdb_data_2001.csv.gz',\n",
       " '.ipynb_checkpoints',\n",
       " 'title_akas_cleaned.csv.gz']"
      ]
     },
     "execution_count": 19,
     "metadata": {},
     "output_type": "execute_result"
    }
   ],
   "source": [
    "# Specify folder for saving data in Python vs Jupyter Notebook\n",
    "FOLDER = \"Data/\"\n",
    "# list current files in Data/\n",
    "os.listdir(FOLDER)"
   ]
  },
  {
   "cell_type": "markdown",
   "id": "19303a2e",
   "metadata": {},
   "source": [
    "### Test data extraction for 2000-2001 Year Movie Releases\n",
    "\n",
    "### OUTER Loop to collect data by YEAR\n",
    "\n",
    "Checks if JSON file exists, if not, creates and writes select query data to the file.\n",
    "\n",
    "\n",
    "Identifies the designated FOLDER (Data/) and names the file based on the current year. Saves data in separate .csv.gz files BY YEAR.\n",
    "\n",
    "### INNER Loop to collect index and movie ID"
   ]
  },
  {
   "cell_type": "code",
   "execution_count": 20,
   "id": "08f53c79",
   "metadata": {},
   "outputs": [
    {
     "data": {
      "application/vnd.jupyter.widget-view+json": {
       "model_id": "1de9e48cc9094c528925ec5a5631b70d",
       "version_major": 2,
       "version_minor": 0
      },
      "text/plain": [
       "YEARS:   0%|          | 0/2 [00:00<?, ?it/s]"
      ]
     },
     "metadata": {},
     "output_type": "display_data"
    },
    {
     "name": "stdout",
     "output_type": "stream",
     "text": [
      "The year 2000 file already exists.\n"
     ]
    },
    {
     "data": {
      "application/vnd.jupyter.widget-view+json": {
       "model_id": "1194b5e17b0846d6b3496af912b7d56a",
       "version_major": 2,
       "version_minor": 0
      },
      "text/plain": [
       "Movies from 2000:   0%|          | 0/2959 [00:00<?, ?it/s]"
      ]
     },
     "metadata": {},
     "output_type": "display_data"
    },
    {
     "name": "stdout",
     "output_type": "stream",
     "text": [
      "The year 2001 file already exists.\n"
     ]
    },
    {
     "data": {
      "application/vnd.jupyter.widget-view+json": {
       "model_id": "a47e72c58ebc4c04a7494644845081c3",
       "version_major": 2,
       "version_minor": 0
      },
      "text/plain": [
       "Movies from 2001:   0%|          | 0/4453 [00:00<?, ?it/s]"
      ]
     },
     "metadata": {},
     "output_type": "display_data"
    }
   ],
   "source": [
    "# Start of OUTER loop\n",
    "for YEAR in tqdm_notebook(YEARS_TO_GET,desc='YEARS',position=0):\n",
    "    \n",
    "    #Defining the JSON file to store results for year\n",
    "    JSON_FILE = f'{FOLDER}tmdb_api_results_{YEAR}.json'\n",
    "    # Check if file exists\n",
    "    file_exists = os.path.isfile(JSON_FILE)\n",
    "     # If it does not exist: create it\n",
    "    if file_exists == False:\n",
    "        ## If it does not exist:\n",
    "        print('The year', YEAR, 'file does not exist.  Creating empty file.')\n",
    "        # save an empty dict with just \"imdb_id\" to the new json file.\n",
    "        with open(JSON_FILE,'w') as f:\n",
    "            json.dump([{'imdb_id':0}],f)\n",
    "    else:\n",
    "        print('The year', YEAR, 'file already exists.')\n",
    "        \n",
    "\n",
    "    #Saving new year as the current df\n",
    "    df = basics.loc[basics['startYear'] == YEAR].copy()\n",
    "    # saving movie ids to list\n",
    "    movie_id = df['tconst'].copy()#.to_list()\n",
    " \n",
    "    # Load existing data from json into a dataframe called \"previous_basics\"\n",
    "    previous_df = pd.read_json(JSON_FILE)\n",
    "    # filter out any ids that are already in the JSON_FILE\n",
    "    movie_id_to_get = movie_id[~movie_id.isin(previous_df['imdb_id'])]\n",
    "        \n",
    "    # Get index and movie id from list\n",
    "    # This loop uses 2 functions: 1) \"get_movie_with_rating\" to add the certification to the .info results \n",
    "    # and 2) \"write_json\" to extend/append the results to the .json file. \n",
    "    \n",
    "    # INNER Loop\n",
    "    for movie_id in tqdm_notebook(movie_id_to_get,\n",
    "                          desc=f'Movies from {YEAR}',\n",
    "                          position=1,\n",
    "                          leave=True):\n",
    "        # Attempt to retrieve the data for the movie id\n",
    "        try:\n",
    "            temp = get_movie_with_rating(movie_id)  #This uses your pre-made function\n",
    "            # Append/extend results to existing file using a pre-made function\n",
    "            write_json(temp,JSON_FILE)\n",
    "            # Short 20 ms sleep to prevent overwhelming server\n",
    "            time.sleep(0.02)\n",
    "            # If it fails,  make a dict with just the id and None for certification.\n",
    "        except Exception as e: \n",
    "            continue\n",
    "\n",
    "    ## Saving filtered file as csv.gz\n",
    "    final_year_df = pd.read_json(JSON_FILE)\n",
    "    final_year_df.to_csv(f\"{FOLDER}final_tmdb_data_{YEAR}.csv.gz\", compression=\"gzip\", index=False)"
   ]
  },
  {
   "cell_type": "code",
   "execution_count": 24,
   "id": "012a6100",
   "metadata": {},
   "outputs": [
    {
     "data": {
      "text/html": [
       "<div>\n",
       "<style scoped>\n",
       "    .dataframe tbody tr th:only-of-type {\n",
       "        vertical-align: middle;\n",
       "    }\n",
       "\n",
       "    .dataframe tbody tr th {\n",
       "        vertical-align: top;\n",
       "    }\n",
       "\n",
       "    .dataframe thead th {\n",
       "        text-align: right;\n",
       "    }\n",
       "</style>\n",
       "<table border=\"1\" class=\"dataframe\">\n",
       "  <thead>\n",
       "    <tr style=\"text-align: right;\">\n",
       "      <th></th>\n",
       "      <th>imdb_id</th>\n",
       "      <th>adult</th>\n",
       "      <th>backdrop_path</th>\n",
       "      <th>belongs_to_collection</th>\n",
       "      <th>budget</th>\n",
       "      <th>genres</th>\n",
       "      <th>homepage</th>\n",
       "      <th>id</th>\n",
       "      <th>original_language</th>\n",
       "      <th>original_title</th>\n",
       "      <th>...</th>\n",
       "      <th>revenue</th>\n",
       "      <th>runtime</th>\n",
       "      <th>spoken_languages</th>\n",
       "      <th>status</th>\n",
       "      <th>tagline</th>\n",
       "      <th>title</th>\n",
       "      <th>video</th>\n",
       "      <th>vote_average</th>\n",
       "      <th>vote_count</th>\n",
       "      <th>certification</th>\n",
       "    </tr>\n",
       "  </thead>\n",
       "  <tbody>\n",
       "    <tr>\n",
       "      <th>0</th>\n",
       "      <td>0</td>\n",
       "      <td>NaN</td>\n",
       "      <td>NaN</td>\n",
       "      <td>NaN</td>\n",
       "      <td>NaN</td>\n",
       "      <td>NaN</td>\n",
       "      <td>NaN</td>\n",
       "      <td>NaN</td>\n",
       "      <td>NaN</td>\n",
       "      <td>NaN</td>\n",
       "      <td>...</td>\n",
       "      <td>NaN</td>\n",
       "      <td>NaN</td>\n",
       "      <td>NaN</td>\n",
       "      <td>NaN</td>\n",
       "      <td>NaN</td>\n",
       "      <td>NaN</td>\n",
       "      <td>NaN</td>\n",
       "      <td>NaN</td>\n",
       "      <td>NaN</td>\n",
       "      <td>NaN</td>\n",
       "    </tr>\n",
       "    <tr>\n",
       "      <th>1</th>\n",
       "      <td>tt0015414</td>\n",
       "      <td>0.0</td>\n",
       "      <td>NaN</td>\n",
       "      <td>NaN</td>\n",
       "      <td>0.0</td>\n",
       "      <td>[{'id': 18, 'name': 'Drama'}]</td>\n",
       "      <td>NaN</td>\n",
       "      <td>607290.0</td>\n",
       "      <td>es</td>\n",
       "      <td>La tierra de los toros</td>\n",
       "      <td>...</td>\n",
       "      <td>0.0</td>\n",
       "      <td>53.0</td>\n",
       "      <td>[{'english_name': 'No Language', 'iso_639_1': ...</td>\n",
       "      <td>Released</td>\n",
       "      <td>NaN</td>\n",
       "      <td>The Land of the Bulls</td>\n",
       "      <td>0.0</td>\n",
       "      <td>0.0</td>\n",
       "      <td>0.0</td>\n",
       "      <td>NaN</td>\n",
       "    </tr>\n",
       "    <tr>\n",
       "      <th>2</th>\n",
       "      <td>tt0113026</td>\n",
       "      <td>0.0</td>\n",
       "      <td>/vMFs7nw6P0bIV1jDsQpxAieAVnH.jpg</td>\n",
       "      <td>NaN</td>\n",
       "      <td>10000000.0</td>\n",
       "      <td>[{'id': 35, 'name': 'Comedy'}, {'id': 10402, '...</td>\n",
       "      <td>NaN</td>\n",
       "      <td>62127.0</td>\n",
       "      <td>en</td>\n",
       "      <td>The Fantasticks</td>\n",
       "      <td>...</td>\n",
       "      <td>0.0</td>\n",
       "      <td>86.0</td>\n",
       "      <td>[{'english_name': 'English', 'iso_639_1': 'en'...</td>\n",
       "      <td>Released</td>\n",
       "      <td>Try to remember the first time magic happened</td>\n",
       "      <td>The Fantasticks</td>\n",
       "      <td>0.0</td>\n",
       "      <td>5.5</td>\n",
       "      <td>22.0</td>\n",
       "      <td>NaN</td>\n",
       "    </tr>\n",
       "    <tr>\n",
       "      <th>3</th>\n",
       "      <td>tt0113086</td>\n",
       "      <td>0.0</td>\n",
       "      <td>NaN</td>\n",
       "      <td>NaN</td>\n",
       "      <td>0.0</td>\n",
       "      <td>[]</td>\n",
       "      <td>NaN</td>\n",
       "      <td>612666.0</td>\n",
       "      <td>en</td>\n",
       "      <td>Florentino y el diablo</td>\n",
       "      <td>...</td>\n",
       "      <td>0.0</td>\n",
       "      <td>90.0</td>\n",
       "      <td>[]</td>\n",
       "      <td>Released</td>\n",
       "      <td>NaN</td>\n",
       "      <td>Florentino y el diablo</td>\n",
       "      <td>0.0</td>\n",
       "      <td>0.0</td>\n",
       "      <td>0.0</td>\n",
       "      <td>NaN</td>\n",
       "    </tr>\n",
       "    <tr>\n",
       "      <th>4</th>\n",
       "      <td>tt0113092</td>\n",
       "      <td>0.0</td>\n",
       "      <td>NaN</td>\n",
       "      <td>NaN</td>\n",
       "      <td>0.0</td>\n",
       "      <td>[{'id': 878, 'name': 'Science Fiction'}]</td>\n",
       "      <td>NaN</td>\n",
       "      <td>110977.0</td>\n",
       "      <td>en</td>\n",
       "      <td>For the Cause</td>\n",
       "      <td>...</td>\n",
       "      <td>0.0</td>\n",
       "      <td>100.0</td>\n",
       "      <td>[{'english_name': 'English', 'iso_639_1': 'en'...</td>\n",
       "      <td>Released</td>\n",
       "      <td>The ultimate showdown on a forbidden planet.</td>\n",
       "      <td>For the Cause</td>\n",
       "      <td>0.0</td>\n",
       "      <td>4.4</td>\n",
       "      <td>7.0</td>\n",
       "      <td>NaN</td>\n",
       "    </tr>\n",
       "  </tbody>\n",
       "</table>\n",
       "<p>5 rows × 26 columns</p>\n",
       "</div>"
      ],
      "text/plain": [
       "     imdb_id  adult                     backdrop_path belongs_to_collection  \\\n",
       "0          0    NaN                               NaN                   NaN   \n",
       "1  tt0015414    0.0                               NaN                   NaN   \n",
       "2  tt0113026    0.0  /vMFs7nw6P0bIV1jDsQpxAieAVnH.jpg                   NaN   \n",
       "3  tt0113086    0.0                               NaN                   NaN   \n",
       "4  tt0113092    0.0                               NaN                   NaN   \n",
       "\n",
       "       budget                                             genres homepage  \\\n",
       "0         NaN                                                NaN      NaN   \n",
       "1         0.0                      [{'id': 18, 'name': 'Drama'}]      NaN   \n",
       "2  10000000.0  [{'id': 35, 'name': 'Comedy'}, {'id': 10402, '...      NaN   \n",
       "3         0.0                                                 []      NaN   \n",
       "4         0.0           [{'id': 878, 'name': 'Science Fiction'}]      NaN   \n",
       "\n",
       "         id original_language          original_title  ... revenue  runtime  \\\n",
       "0       NaN               NaN                     NaN  ...     NaN      NaN   \n",
       "1  607290.0                es  La tierra de los toros  ...     0.0     53.0   \n",
       "2   62127.0                en         The Fantasticks  ...     0.0     86.0   \n",
       "3  612666.0                en  Florentino y el diablo  ...     0.0     90.0   \n",
       "4  110977.0                en           For the Cause  ...     0.0    100.0   \n",
       "\n",
       "                                    spoken_languages    status  \\\n",
       "0                                                NaN       NaN   \n",
       "1  [{'english_name': 'No Language', 'iso_639_1': ...  Released   \n",
       "2  [{'english_name': 'English', 'iso_639_1': 'en'...  Released   \n",
       "3                                                 []  Released   \n",
       "4  [{'english_name': 'English', 'iso_639_1': 'en'...  Released   \n",
       "\n",
       "                                         tagline                   title  \\\n",
       "0                                            NaN                     NaN   \n",
       "1                                            NaN   The Land of the Bulls   \n",
       "2  Try to remember the first time magic happened         The Fantasticks   \n",
       "3                                            NaN  Florentino y el diablo   \n",
       "4   The ultimate showdown on a forbidden planet.           For the Cause   \n",
       "\n",
       "   video  vote_average vote_count certification  \n",
       "0    NaN           NaN        NaN           NaN  \n",
       "1    0.0           0.0        0.0           NaN  \n",
       "2    0.0           5.5       22.0           NaN  \n",
       "3    0.0           0.0        0.0           NaN  \n",
       "4    0.0           4.4        7.0           NaN  \n",
       "\n",
       "[5 rows x 26 columns]"
      ]
     },
     "execution_count": 24,
     "metadata": {},
     "output_type": "execute_result"
    }
   ],
   "source": [
    "final_tmdb_2000 = pd.read_csv('Data/final_tmdb_data_2000.csv.gz')\n",
    "final_tmdb_2000.head()"
   ]
  },
  {
   "cell_type": "code",
   "execution_count": 25,
   "id": "cd80cbe6",
   "metadata": {},
   "outputs": [
    {
     "data": {
      "text/html": [
       "<div>\n",
       "<style scoped>\n",
       "    .dataframe tbody tr th:only-of-type {\n",
       "        vertical-align: middle;\n",
       "    }\n",
       "\n",
       "    .dataframe tbody tr th {\n",
       "        vertical-align: top;\n",
       "    }\n",
       "\n",
       "    .dataframe thead th {\n",
       "        text-align: right;\n",
       "    }\n",
       "</style>\n",
       "<table border=\"1\" class=\"dataframe\">\n",
       "  <thead>\n",
       "    <tr style=\"text-align: right;\">\n",
       "      <th></th>\n",
       "      <th>imdb_id</th>\n",
       "      <th>adult</th>\n",
       "      <th>backdrop_path</th>\n",
       "      <th>belongs_to_collection</th>\n",
       "      <th>budget</th>\n",
       "      <th>genres</th>\n",
       "      <th>homepage</th>\n",
       "      <th>id</th>\n",
       "      <th>original_language</th>\n",
       "      <th>original_title</th>\n",
       "      <th>...</th>\n",
       "      <th>revenue</th>\n",
       "      <th>runtime</th>\n",
       "      <th>spoken_languages</th>\n",
       "      <th>status</th>\n",
       "      <th>tagline</th>\n",
       "      <th>title</th>\n",
       "      <th>video</th>\n",
       "      <th>vote_average</th>\n",
       "      <th>vote_count</th>\n",
       "      <th>certification</th>\n",
       "    </tr>\n",
       "  </thead>\n",
       "  <tbody>\n",
       "    <tr>\n",
       "      <th>0</th>\n",
       "      <td>0</td>\n",
       "      <td>NaN</td>\n",
       "      <td>NaN</td>\n",
       "      <td>NaN</td>\n",
       "      <td>NaN</td>\n",
       "      <td>NaN</td>\n",
       "      <td>NaN</td>\n",
       "      <td>NaN</td>\n",
       "      <td>NaN</td>\n",
       "      <td>NaN</td>\n",
       "      <td>...</td>\n",
       "      <td>NaN</td>\n",
       "      <td>NaN</td>\n",
       "      <td>NaN</td>\n",
       "      <td>NaN</td>\n",
       "      <td>NaN</td>\n",
       "      <td>NaN</td>\n",
       "      <td>NaN</td>\n",
       "      <td>NaN</td>\n",
       "      <td>NaN</td>\n",
       "      <td>NaN</td>\n",
       "    </tr>\n",
       "    <tr>\n",
       "      <th>1</th>\n",
       "      <td>tt0035423</td>\n",
       "      <td>0.0</td>\n",
       "      <td>/ab5yL8zgRotrICzGbEl10z24N71.jpg</td>\n",
       "      <td>NaN</td>\n",
       "      <td>48000000.0</td>\n",
       "      <td>[{'id': 35, 'name': 'Comedy'}, {'id': 14, 'nam...</td>\n",
       "      <td>NaN</td>\n",
       "      <td>11232.0</td>\n",
       "      <td>en</td>\n",
       "      <td>Kate &amp; Leopold</td>\n",
       "      <td>...</td>\n",
       "      <td>76019048.0</td>\n",
       "      <td>118.0</td>\n",
       "      <td>[{'english_name': 'French', 'iso_639_1': 'fr',...</td>\n",
       "      <td>Released</td>\n",
       "      <td>If they lived in the same century they'd be pe...</td>\n",
       "      <td>Kate &amp; Leopold</td>\n",
       "      <td>0.0</td>\n",
       "      <td>6.3</td>\n",
       "      <td>1127.0</td>\n",
       "      <td>PG-13</td>\n",
       "    </tr>\n",
       "    <tr>\n",
       "      <th>2</th>\n",
       "      <td>tt0079644</td>\n",
       "      <td>0.0</td>\n",
       "      <td>/79axmuH1UGkB7m72jjB9rPff9om.jpg</td>\n",
       "      <td>NaN</td>\n",
       "      <td>0.0</td>\n",
       "      <td>[{'id': 10752, 'name': 'War'}]</td>\n",
       "      <td>NaN</td>\n",
       "      <td>285529.0</td>\n",
       "      <td>id</td>\n",
       "      <td>November 1828</td>\n",
       "      <td>...</td>\n",
       "      <td>0.0</td>\n",
       "      <td>140.0</td>\n",
       "      <td>[{'english_name': 'Indonesian', 'iso_639_1': '...</td>\n",
       "      <td>Released</td>\n",
       "      <td>NaN</td>\n",
       "      <td>November 1828</td>\n",
       "      <td>0.0</td>\n",
       "      <td>0.0</td>\n",
       "      <td>0.0</td>\n",
       "      <td>NaN</td>\n",
       "    </tr>\n",
       "    <tr>\n",
       "      <th>3</th>\n",
       "      <td>tt0089067</td>\n",
       "      <td>0.0</td>\n",
       "      <td>NaN</td>\n",
       "      <td>NaN</td>\n",
       "      <td>0.0</td>\n",
       "      <td>[{'id': 35, 'name': 'Comedy'}]</td>\n",
       "      <td>NaN</td>\n",
       "      <td>210258.0</td>\n",
       "      <td>es</td>\n",
       "      <td>El día de los albañiles 2</td>\n",
       "      <td>...</td>\n",
       "      <td>0.0</td>\n",
       "      <td>90.0</td>\n",
       "      <td>[{'english_name': 'Spanish', 'iso_639_1': 'es'...</td>\n",
       "      <td>Released</td>\n",
       "      <td>The laborers are back full of love and laughs.</td>\n",
       "      <td>El día de los albañiles 2</td>\n",
       "      <td>0.0</td>\n",
       "      <td>7.1</td>\n",
       "      <td>66.0</td>\n",
       "      <td>NaN</td>\n",
       "    </tr>\n",
       "    <tr>\n",
       "      <th>4</th>\n",
       "      <td>tt0114447</td>\n",
       "      <td>0.0</td>\n",
       "      <td>NaN</td>\n",
       "      <td>NaN</td>\n",
       "      <td>0.0</td>\n",
       "      <td>[{'id': 53, 'name': 'Thriller'}, {'id': 28, 'n...</td>\n",
       "      <td>NaN</td>\n",
       "      <td>151007.0</td>\n",
       "      <td>en</td>\n",
       "      <td>The Silent Force</td>\n",
       "      <td>...</td>\n",
       "      <td>0.0</td>\n",
       "      <td>90.0</td>\n",
       "      <td>[{'english_name': 'English', 'iso_639_1': 'en'...</td>\n",
       "      <td>Released</td>\n",
       "      <td>They left him for dead... They should have fin...</td>\n",
       "      <td>The Silent Force</td>\n",
       "      <td>0.0</td>\n",
       "      <td>5.0</td>\n",
       "      <td>3.0</td>\n",
       "      <td>NaN</td>\n",
       "    </tr>\n",
       "  </tbody>\n",
       "</table>\n",
       "<p>5 rows × 26 columns</p>\n",
       "</div>"
      ],
      "text/plain": [
       "     imdb_id  adult                     backdrop_path belongs_to_collection  \\\n",
       "0          0    NaN                               NaN                   NaN   \n",
       "1  tt0035423    0.0  /ab5yL8zgRotrICzGbEl10z24N71.jpg                   NaN   \n",
       "2  tt0079644    0.0  /79axmuH1UGkB7m72jjB9rPff9om.jpg                   NaN   \n",
       "3  tt0089067    0.0                               NaN                   NaN   \n",
       "4  tt0114447    0.0                               NaN                   NaN   \n",
       "\n",
       "       budget                                             genres homepage  \\\n",
       "0         NaN                                                NaN      NaN   \n",
       "1  48000000.0  [{'id': 35, 'name': 'Comedy'}, {'id': 14, 'nam...      NaN   \n",
       "2         0.0                     [{'id': 10752, 'name': 'War'}]      NaN   \n",
       "3         0.0                     [{'id': 35, 'name': 'Comedy'}]      NaN   \n",
       "4         0.0  [{'id': 53, 'name': 'Thriller'}, {'id': 28, 'n...      NaN   \n",
       "\n",
       "         id original_language             original_title  ...     revenue  \\\n",
       "0       NaN               NaN                        NaN  ...         NaN   \n",
       "1   11232.0                en             Kate & Leopold  ...  76019048.0   \n",
       "2  285529.0                id              November 1828  ...         0.0   \n",
       "3  210258.0                es  El día de los albañiles 2  ...         0.0   \n",
       "4  151007.0                en           The Silent Force  ...         0.0   \n",
       "\n",
       "   runtime                                   spoken_languages    status  \\\n",
       "0      NaN                                                NaN       NaN   \n",
       "1    118.0  [{'english_name': 'French', 'iso_639_1': 'fr',...  Released   \n",
       "2    140.0  [{'english_name': 'Indonesian', 'iso_639_1': '...  Released   \n",
       "3     90.0  [{'english_name': 'Spanish', 'iso_639_1': 'es'...  Released   \n",
       "4     90.0  [{'english_name': 'English', 'iso_639_1': 'en'...  Released   \n",
       "\n",
       "                                             tagline  \\\n",
       "0                                                NaN   \n",
       "1  If they lived in the same century they'd be pe...   \n",
       "2                                                NaN   \n",
       "3     The laborers are back full of love and laughs.   \n",
       "4  They left him for dead... They should have fin...   \n",
       "\n",
       "                       title  video  vote_average vote_count certification  \n",
       "0                        NaN    NaN           NaN        NaN           NaN  \n",
       "1             Kate & Leopold    0.0           6.3     1127.0         PG-13  \n",
       "2              November 1828    0.0           0.0        0.0           NaN  \n",
       "3  El día de los albañiles 2    0.0           7.1       66.0           NaN  \n",
       "4           The Silent Force    0.0           5.0        3.0           NaN  \n",
       "\n",
       "[5 rows x 26 columns]"
      ]
     },
     "execution_count": 25,
     "metadata": {},
     "output_type": "execute_result"
    }
   ],
   "source": [
    "final_tmdb_2001 = pd.read_csv('Data/final_tmdb_data_2001.csv.gz')\n",
    "final_tmdb_2001.head()"
   ]
  }
 ],
 "metadata": {
  "kernelspec": {
   "display_name": "Python (dojo-env)",
   "language": "python",
   "name": "dojo-env"
  },
  "language_info": {
   "codemirror_mode": {
    "name": "ipython",
    "version": 3
   },
   "file_extension": ".py",
   "mimetype": "text/x-python",
   "name": "python",
   "nbconvert_exporter": "python",
   "pygments_lexer": "ipython3",
   "version": "3.7.12"
  },
  "toc": {
   "base_numbering": 1,
   "nav_menu": {},
   "number_sections": false,
   "sideBar": true,
   "skip_h1_title": false,
   "title_cell": "Table of Contents",
   "title_sidebar": "Contents",
   "toc_cell": false,
   "toc_position": {},
   "toc_section_display": true,
   "toc_window_display": true
  }
 },
 "nbformat": 4,
 "nbformat_minor": 5
}
