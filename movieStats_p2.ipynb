{
 "cells": [
  {
   "cell_type": "markdown",
   "id": "c97e6411",
   "metadata": {},
   "source": [
    "## Part 2\n",
    "\n",
    "Use TMDb API to collect budget, revenue, and MPAA Rating (G/PG/PG-13/R) or \"Certification\" data for analysis."
   ]
  },
  {
   "cell_type": "code",
   "execution_count": 1,
   "id": "e2408b2a",
   "metadata": {},
   "outputs": [
    {
     "name": "stdout",
     "output_type": "stream",
     "text": [
      "Requirement already satisfied: tmdbsimple in /Users/shenekaallen/opt/anaconda3/envs/dojo-env/lib/python3.7/site-packages (2.9.1)\n",
      "Requirement already satisfied: requests in /Users/shenekaallen/opt/anaconda3/envs/dojo-env/lib/python3.7/site-packages (from tmdbsimple) (2.27.1)\n",
      "Requirement already satisfied: charset-normalizer~=2.0.0 in /Users/shenekaallen/opt/anaconda3/envs/dojo-env/lib/python3.7/site-packages (from requests->tmdbsimple) (2.0.12)\n",
      "Requirement already satisfied: urllib3<1.27,>=1.21.1 in /Users/shenekaallen/opt/anaconda3/envs/dojo-env/lib/python3.7/site-packages (from requests->tmdbsimple) (1.26.8)\n",
      "Requirement already satisfied: idna<4,>=2.5 in /Users/shenekaallen/opt/anaconda3/envs/dojo-env/lib/python3.7/site-packages (from requests->tmdbsimple) (3.3)\n",
      "Requirement already satisfied: certifi>=2017.4.17 in /Users/shenekaallen/opt/anaconda3/envs/dojo-env/lib/python3.7/site-packages (from requests->tmdbsimple) (2022.6.15)\n"
     ]
    }
   ],
   "source": [
    "# Install tmdbsimple (only need to run once)\n",
    "\n",
    "# this package will make it easier to extract the data we need without manually \n",
    "# constructing the URLs for our API calls.\n",
    "!pip install tmdbsimple"
   ]
  },
  {
   "cell_type": "code",
   "execution_count": 2,
   "id": "02a71267",
   "metadata": {},
   "outputs": [
    {
     "name": "stdout",
     "output_type": "stream",
     "text": [
      "Requirement already satisfied: tqdm in /Users/shenekaallen/opt/anaconda3/envs/dojo-env/lib/python3.7/site-packages (4.64.0)\r\n"
     ]
    }
   ],
   "source": [
    "# package that provides PROGRESS BAR for processing data from returned API calls\n",
    "!pip install tqdm"
   ]
  },
  {
   "cell_type": "code",
   "execution_count": 3,
   "id": "d67592c4",
   "metadata": {},
   "outputs": [],
   "source": [
    "# import libraries\n",
    "import numpy as np\n",
    "import pandas as pd\n",
    "import matplotlib.pyplot as plt\n",
    "import seaborn as sns\n",
    "\n",
    "import os, json, math, time\n",
    "import tmdbsimple as tmdb\n",
    "from tqdm.notebook import tqdm_notebook"
   ]
  },
  {
   "cell_type": "code",
   "execution_count": 4,
   "id": "a82c7831",
   "metadata": {},
   "outputs": [
    {
     "name": "stdout",
     "output_type": "stream",
     "text": [
      "<class 'pandas.core.frame.DataFrame'>\n",
      "RangeIndex: 292582 entries, 0 to 292581\n",
      "Data columns (total 9 columns):\n",
      " #   Column          Non-Null Count   Dtype \n",
      "---  ------          --------------   ----- \n",
      " 0   tconst          292582 non-null  object\n",
      " 1   titleType       292582 non-null  object\n",
      " 2   primaryTitle    292582 non-null  object\n",
      " 3   originalTitle   292582 non-null  object\n",
      " 4   isAdult         292582 non-null  int64 \n",
      " 5   startYear       292582 non-null  object\n",
      " 6   endYear         292582 non-null  object\n",
      " 7   runtimeMinutes  292582 non-null  object\n",
      " 8   genres          292582 non-null  object\n",
      "dtypes: int64(1), object(8)\n",
      "memory usage: 20.1+ MB\n"
     ]
    }
   ],
   "source": [
    "# testing to see if .csv.gz file from Project 3, Part 1 actually has data\n",
    "test = pd.read_csv('Data/title_basics_cleaned.csv.gz')\n",
    "test.info()"
   ]
  },
  {
   "cell_type": "code",
   "execution_count": 5,
   "id": "f6148f55",
   "metadata": {},
   "outputs": [
    {
     "data": {
      "text/plain": [
       "tt0011801     1\n",
       "tt3843334     1\n",
       "tt3843564     1\n",
       "tt3843540     1\n",
       "tt3843532     1\n",
       "             ..\n",
       "tt14716932    1\n",
       "tt14717132    1\n",
       "tt14717260    1\n",
       "tt14717428    1\n",
       "tt9916730     1\n",
       "Name: tconst, Length: 292582, dtype: int64"
      ]
     },
     "execution_count": 5,
     "metadata": {},
     "output_type": "execute_result"
    }
   ],
   "source": [
    "# check to see if imdb_id or movie_ids in basics df\n",
    "test['tconst'].value_counts()"
   ]
  },
  {
   "cell_type": "code",
   "execution_count": 6,
   "id": "d6d3b4ce",
   "metadata": {},
   "outputs": [
    {
     "data": {
      "text/plain": [
       "2029        4\n",
       "2028        7\n",
       "2027       16\n",
       "2026       18\n",
       "2025       62\n",
       "2024      257\n",
       "2023     1767\n",
       "2000     4283\n",
       "2001     4453\n",
       "2002     4585\n",
       "2003     4612\n",
       "2004     4829\n",
       "2005     5526\n",
       "2006     5925\n",
       "2007     6410\n",
       "2008     7358\n",
       "2009     8670\n",
       "2010     9636\n",
       "2022    10276\n",
       "2011    10469\n",
       "2020    11247\n",
       "2012    11344\n",
       "2013    12213\n",
       "2015    12991\n",
       "2014    13050\n",
       "2021    13087\n",
       "2019    13358\n",
       "2016    13618\n",
       "2017    13893\n",
       "2018    13973\n",
       "\\N      74645\n",
       "Name: startYear, dtype: int64"
      ]
     },
     "execution_count": 6,
     "metadata": {},
     "output_type": "execute_result"
    }
   ],
   "source": [
    "# verify startYear values in basics df\n",
    "test['startYear'].value_counts().sort_values()"
   ]
  },
  {
   "cell_type": "code",
   "execution_count": 7,
   "id": "c0f80f8b",
   "metadata": {},
   "outputs": [
    {
     "data": {
      "text/plain": [
       "dict_keys(['API Key', 'Authorization'])"
      ]
     },
     "execution_count": 7,
     "metadata": {},
     "output_type": "execute_result"
    }
   ],
   "source": [
    "# Load my TMDb login credentials\n",
    "with open('/Users/shenekaallen/.secret/tmdb_api.json', 'r') as f:\n",
    "    login = json.load(f)\n",
    "    \n",
    "## Display the keys of the loaded dict\n",
    "login.keys()"
   ]
  },
  {
   "cell_type": "code",
   "execution_count": 8,
   "id": "459c58bc",
   "metadata": {},
   "outputs": [],
   "source": [
    "# set the tmdbapi variable equal to my unique TMDb \"API Key(v3 auth)\" entry in JSON file\n",
    "tmdb.API_KEY =  login['API Key']"
   ]
  },
  {
   "cell_type": "markdown",
   "id": "63838cae",
   "metadata": {},
   "source": [
    "### Practice:  Test data extraction"
   ]
  },
  {
   "cell_type": "code",
   "execution_count": 9,
   "id": "5b11ebd1",
   "metadata": {},
   "outputs": [],
   "source": [
    "## make a movie object using the .Movies function from tmdb\n",
    "movie = tmdb.Movies(603)"
   ]
  },
  {
   "cell_type": "code",
   "execution_count": 10,
   "id": "a5773f1a",
   "metadata": {},
   "outputs": [
    {
     "data": {
      "text/plain": [
       "{'adult': False,\n",
       " 'backdrop_path': '/y9wuhlrqSHvhTLNVNwKMKe6HZzY.jpg',\n",
       " 'belongs_to_collection': {'id': 2344,\n",
       "  'name': 'The Matrix Collection',\n",
       "  'poster_path': '/bV9qTVHTVf0gkW0j7p7M0ILD4pG.jpg',\n",
       "  'backdrop_path': '/bRm2DEgUiYciDw3myHuYFInD7la.jpg'},\n",
       " 'budget': 63000000,\n",
       " 'genres': [{'id': 28, 'name': 'Action'},\n",
       "  {'id': 878, 'name': 'Science Fiction'}],\n",
       " 'homepage': 'http://www.warnerbros.com/matrix',\n",
       " 'id': 603,\n",
       " 'imdb_id': 'tt0133093',\n",
       " 'original_language': 'en',\n",
       " 'original_title': 'The Matrix',\n",
       " 'overview': 'Set in the 22nd century, The Matrix tells the story of a computer hacker who joins a group of underground insurgents fighting the vast and powerful computers who now rule the earth.',\n",
       " 'popularity': 78.676,\n",
       " 'poster_path': '/f89U3ADr1oiB1s9GkdPOEpXUk5H.jpg',\n",
       " 'production_companies': [{'id': 79,\n",
       "   'logo_path': '/tpFpsqbleCzEE2p5EgvUq6ozfCA.png',\n",
       "   'name': 'Village Roadshow Pictures',\n",
       "   'origin_country': 'US'},\n",
       "  {'id': 174,\n",
       "   'logo_path': '/IuAlhI9eVC9Z8UQWOIDdWRKSEJ.png',\n",
       "   'name': 'Warner Bros. Pictures',\n",
       "   'origin_country': 'US'},\n",
       "  {'id': 372,\n",
       "   'logo_path': None,\n",
       "   'name': 'Groucho II Film Partnership',\n",
       "   'origin_country': ''},\n",
       "  {'id': 1885,\n",
       "   'logo_path': '/tXMFoE8AtNdnFzWOW0aCLwl7xxS.png',\n",
       "   'name': 'Silver Pictures',\n",
       "   'origin_country': 'US'}],\n",
       " 'production_countries': [{'iso_3166_1': 'US',\n",
       "   'name': 'United States of America'}],\n",
       " 'release_date': '1999-03-30',\n",
       " 'revenue': 463517383,\n",
       " 'runtime': 136,\n",
       " 'spoken_languages': [{'english_name': 'English',\n",
       "   'iso_639_1': 'en',\n",
       "   'name': 'English'}],\n",
       " 'status': 'Released',\n",
       " 'tagline': 'Welcome to the Real World.',\n",
       " 'title': 'The Matrix',\n",
       " 'video': False,\n",
       " 'vote_average': 8.2,\n",
       " 'vote_count': 21728}"
      ]
     },
     "execution_count": 10,
     "metadata": {},
     "output_type": "execute_result"
    }
   ],
   "source": [
    "## movie objects has a .info dictionary \n",
    "response = movie.info()\n",
    "response"
   ]
  },
  {
   "cell_type": "code",
   "execution_count": 11,
   "id": "d1ed78a8",
   "metadata": {},
   "outputs": [
    {
     "data": {
      "text/plain": [
       "50000000"
      ]
     },
     "execution_count": 11,
     "metadata": {},
     "output_type": "execute_result"
    }
   ],
   "source": [
    "# What was the budget of Tom and Jerry which had imdb id of \"tt1361336\"?\n",
    "movie = tmdb.Movies('tt1361336')\n",
    "info = movie.info()\n",
    "info['budget']"
   ]
  },
  {
   "cell_type": "code",
   "execution_count": 12,
   "id": "57249a6e",
   "metadata": {},
   "outputs": [],
   "source": [
    "# Extract movie certification/MPAA Rating from package README for current id\n",
    "movie = tmdb.Movies('tt1361336')\n",
    "# save the .info .releases dictionaries\n",
    "info = movie.info()\n",
    "releases = movie.releases()\n",
    "# Loop through countries in releases\n",
    "for c in releases['countries']:\n",
    "    # if the country abbreviation==US\n",
    "    if c['iso_3166_1' ] =='US':\n",
    "        ## save a \"certification\" key in the info dict with the certification\n",
    "       info['certification'] = c['certification']\n"
   ]
  },
  {
   "cell_type": "code",
   "execution_count": 13,
   "id": "d1690ed7",
   "metadata": {},
   "outputs": [
    {
     "data": {
      "text/plain": [
       "'PG'"
      ]
     },
     "execution_count": 13,
     "metadata": {},
     "output_type": "execute_result"
    }
   ],
   "source": [
    "info['certification']"
   ]
  },
  {
   "cell_type": "markdown",
   "id": "51eb0883",
   "metadata": {},
   "source": [
    "## Setup to use TMDB API\n",
    "\n",
    "Define functions, Specify movie Years to extract and folder to save results"
   ]
  },
  {
   "cell_type": "markdown",
   "id": "fea0052e",
   "metadata": {},
   "source": [
    "### Defined Function:  get_movie_with_rating "
   ]
  },
  {
   "cell_type": "code",
   "execution_count": 14,
   "id": "5150d7ac",
   "metadata": {},
   "outputs": [],
   "source": [
    "# function that 1) accepts the movie_id as an argument and\n",
    "# 2) returns a dictionary of results that includes certification\n",
    "def get_movie_with_rating(movie_id):\n",
    "    ## Get movie and release dates\n",
    "    movie = tmdb.Movies(movie_id)\n",
    "    ## Construct output dict\n",
    "    movie_info = movie_info()\n",
    "    releases = movie.releases()\n",
    "    # Loop through countries in releases\n",
    "    for c in releases['countries']:\n",
    "        # if the country abbreviation==US\n",
    "        if c['iso_3166_1' ] =='US':\n",
    "            ## save a \"certification\" key in the info dict with the certification\n",
    "            movie_info['certification'] = c['certification']\n",
    "    return movie_info\n"
   ]
  },
  {
   "cell_type": "markdown",
   "id": "81e4f637",
   "metadata": {},
   "source": [
    "### Defined Function:  write_json"
   ]
  },
  {
   "cell_type": "code",
   "execution_count": 15,
   "id": "fdb47276",
   "metadata": {},
   "outputs": [],
   "source": [
    "def write_json(new_data, filename):\n",
    "    \"\"\"Adapted from: https://www.geeksforgeeks.org/append-to-json-file-using-python/\"\"\"\n",
    "    \n",
    "    with open(filename,'r+') as file:\n",
    "        # First we load existing data into a dict.\n",
    "        file_data = json.load(file)\n",
    "        ## Choose extend or append\n",
    "        if (type(new_data) == list) & (type(file_data) == list):\n",
    "            file_data.extend(new_data)\n",
    "        else:\n",
    "            file_data.append(new_data)\n",
    "        # Sets file's current position at offset.\n",
    "        file.seek(0)\n",
    "        # convert back to json.\n",
    "        json.dump(file_data, file)"
   ]
  },
  {
   "cell_type": "code",
   "execution_count": 16,
   "id": "86c25ef7",
   "metadata": {},
   "outputs": [],
   "source": [
    "# Define years to collect from movie db and store in a variable\n",
    "YEARS_TO_GET = [2000,2001]"
   ]
  },
  {
   "cell_type": "code",
   "execution_count": 17,
   "id": "61f342e8",
   "metadata": {},
   "outputs": [
    {
     "data": {
      "text/plain": [
       "['title_basics_cleaned.csv.gz',\n",
       " 'title.akas.tsv.gz',\n",
       " '.DS_Store',\n",
       " 'title_ratings_cleaned.csv.gz',\n",
       " 'title.akas.tsv',\n",
       " 'tmdb_api_results_2000.json',\n",
       " 'final_tmdb_data_2000.csv.gz',\n",
       " 'title.basics.tsv.gz',\n",
       " 'tmdb_api_results_2001.json',\n",
       " 'title.ratings.tsv.gz',\n",
       " 'final_tmdb_data_2001.csv.gz',\n",
       " '.ipynb_checkpoints',\n",
       " 'title_akas_cleaned.csv.gz']"
      ]
     },
     "execution_count": 17,
     "metadata": {},
     "output_type": "execute_result"
    }
   ],
   "source": [
    "# Specify folder for saving data in Python vs Jupyter Notebook\n",
    "FOLDER = \"Data/\"\n",
    "# list current files in Data/\n",
    "os.listdir(FOLDER)"
   ]
  },
  {
   "cell_type": "markdown",
   "id": "19303a2e",
   "metadata": {},
   "source": [
    "### Test data extraction for 2000-2001 Year Movie Releases\n",
    "\n",
    "### OUTER Loop to collect data by YEAR\n",
    "\n",
    "Checks if JSON file exists, if not, creates and writes select query data to the file.\n",
    "\n",
    "\n",
    "Identifies the designated FOLDER (Data/) and names the file based on the current year. Saves data in separate .csv.gz files BY YEAR.\n",
    "\n",
    "### INNER Loop to collect index and movie ID"
   ]
  },
  {
   "cell_type": "markdown",
   "id": "0debb2ff",
   "metadata": {},
   "source": [
    "## Error:  INNER Loop code is not copying Project 3, Part 1 'basics' dataframe into new df leaving movie_ids empty and get_movie_with_rating( ) empty as well. \n",
    "\n",
    "## What am I missing?"
   ]
  },
  {
   "cell_type": "code",
   "execution_count": 18,
   "id": "08f53c79",
   "metadata": {},
   "outputs": [
    {
     "data": {
      "application/vnd.jupyter.widget-view+json": {
       "model_id": "ed54aed8c70b4c80a5029c5971a84195",
       "version_major": 2,
       "version_minor": 0
      },
      "text/plain": [
       "YEARS:   0%|          | 0/2 [00:00<?, ?it/s]"
      ]
     },
     "metadata": {},
     "output_type": "display_data"
    },
    {
     "name": "stdout",
     "output_type": "stream",
     "text": [
      "The year 2000 file already exists.\n",
      "Empty DataFrame\n",
      "Columns: [tconst, titleType, primaryTitle, originalTitle, isAdult, startYear, endYear, runtimeMinutes, genres]\n",
      "Index: []\n"
     ]
    },
    {
     "data": {
      "application/vnd.jupyter.widget-view+json": {
       "model_id": "3ba130587d1f44daa4ae72e14d56ea46",
       "version_major": 2,
       "version_minor": 0
      },
      "text/plain": [
       "Movies from 2000: 0it [00:00, ?it/s]"
      ]
     },
     "metadata": {},
     "output_type": "display_data"
    },
    {
     "name": "stdout",
     "output_type": "stream",
     "text": [
      "The year 2001 file already exists.\n",
      "Empty DataFrame\n",
      "Columns: [tconst, titleType, primaryTitle, originalTitle, isAdult, startYear, endYear, runtimeMinutes, genres]\n",
      "Index: []\n"
     ]
    },
    {
     "data": {
      "application/vnd.jupyter.widget-view+json": {
       "model_id": "5dce9145ddcf4e5d86ac46eeaa78d190",
       "version_major": 2,
       "version_minor": 0
      },
      "text/plain": [
       "Movies from 2001: 0it [00:00, ?it/s]"
      ]
     },
     "metadata": {},
     "output_type": "display_data"
    }
   ],
   "source": [
    "# Start of OUTER loop\n",
    "for YEAR in tqdm_notebook(YEARS_TO_GET,desc='YEARS',position=0):\n",
    "    \n",
    "    #Defining the JSON file to store results for year\n",
    "    JSON_FILE = f'{FOLDER}tmdb_api_results_{YEAR}.json'\n",
    "    # Check if file exists\n",
    "    file_exists = os.path.isfile(JSON_FILE)\n",
    "     # If it does not exist: create it\n",
    "    if file_exists == False:\n",
    "        ## If it does not exist:\n",
    "        print('The year', YEAR, 'file does not exist.  Creating empty file.')\n",
    "        # save an empty dict with just \"imdb_id\" to the new json file.\n",
    "        with open(JSON_FILE,'w') as f:\n",
    "            json.dump([{'imdb_id':0}],f)\n",
    "    else:\n",
    "        print('The year', YEAR, 'file already exists.')\n",
    "        \n",
    "    # Load in the dataframe from project part 1 as basics:\n",
    "    basics = pd.read_csv('Data/title_basics_cleaned.csv.gz')\n",
    "    #print(basics.info())\n",
    "    #Saving new year as the current df\n",
    "    df = basics.loc[basics['startYear']==YEAR].copy()\n",
    "    print(df)\n",
    "    # saving movie ids to list\n",
    "    movie_ids = df['tconst'].copy()#.to_list()\n",
    "    #print(movie_ids)\n",
    "    # Load existing data from json into a dataframe called \"previous_basics\"\n",
    "    previous_df = pd.read_json(JSON_FILE)\n",
    "    # filter out any ids that are already in the JSON_FILE\n",
    "    movie_ids_to_get = movie_ids[~movie_ids.isin(previous_df['imdb_id'])]\n",
    "        \n",
    "    # Get index and movie id from list\n",
    "    # This loop uses 2 functions: 1) \"get_movie_with_rating\" to add the certification to the .info results \n",
    "    # and 2) \"write_json\" to extend/append the results to the .json file. \n",
    "    \n",
    "    # INNER Loop\n",
    "    for movie_id in tqdm_notebook(movie_ids_to_get,\n",
    "                          desc=f'Movies from {YEAR}',\n",
    "                          position=1,\n",
    "                          leave=True):\n",
    "        # Attempt to retrieve the data for the movie id\n",
    "        try:\n",
    "            temp = get_movie_with_rating(movie_id)  #This uses your pre-made function\n",
    "            # Append/extend results to existing file using a pre-made function\n",
    "            write_json(temp,JSON_FILE)\n",
    "            # Short 20 ms sleep to prevent overwhelming server\n",
    "            time.sleep(0.02)\n",
    "            # If it fails,  make a dict with just the id and None for certification.\n",
    "        except Exception as e: \n",
    "            continue\n",
    "\n",
    "    ## Saving filtered file as csv.gz\n",
    "    final_year_df = pd.read_json(JSON_FILE)\n",
    "    final_year_df.to_csv(f\"{FOLDER}final_tmdb_data_{YEAR}.csv.gz\", compression=\"gzip\", index=False)"
   ]
  },
  {
   "cell_type": "code",
   "execution_count": 19,
   "id": "012a6100",
   "metadata": {},
   "outputs": [
    {
     "name": "stdout",
     "output_type": "stream",
     "text": [
      "<class 'pandas.core.frame.DataFrame'>\n",
      "RangeIndex: 1 entries, 0 to 0\n",
      "Data columns (total 1 columns):\n",
      " #   Column   Non-Null Count  Dtype\n",
      "---  ------   --------------  -----\n",
      " 0   imdb_id  1 non-null      int64\n",
      "dtypes: int64(1)\n",
      "memory usage: 136.0 bytes\n"
     ]
    }
   ],
   "source": [
    "# Extract 3 pieces of information for each movie:\n",
    "# Revenue, Budget, Certification (P, PG, etc)\n",
    "\n",
    "final_year_df.info()"
   ]
  },
  {
   "cell_type": "code",
   "execution_count": 59,
   "id": "559bf8de",
   "metadata": {},
   "outputs": [],
   "source": [
    "#Once you have retrieved and saved the final results to 2 separate .csv.gz files, \n",
    "#move on to a new Exploratory Data Analysis notebook to explore the following questions.\n",
    "\n",
    "#Exploratory Data Analysis\n",
    "#1. Load in your csv.gz's of results for each year extracted.\n",
    "#2. Concatenate the data into 1 dataframe for the remainder of the analysis.\n",
    "#3. Once you have your data from the API, they would like you to perform some light EDA to show:\n",
    "#3a.How many movies had at least some valid financial information (values > 0 for budget OR revenue)?\n",
    "#3b.Please exclude any movies with 0's for budget AND revenue from the remaining visualizations.\n",
    "#3c. How many movies are there in each of the certification categories (G/PG/PG-13/R)?\n",
    "#3d. What is the average revenue per certification category?\n",
    "#3e. What is the average budget per certification category?\n",
    "\n",
    "#Deliverables\n",
    "\n",
    "#After you have joined the tmdb results into 1 dataframe in the EDA Notebook, \n",
    "\n",
    "#Save a final merged .csv.gz of all of the tmdb api data\n",
    "#The file name should be \"tmdb_results_combined.csv.gz\"\n",
    "#Make sure this is pushed to your github repository along with all of your code\n",
    "#One code file for API calls\n",
    "#One code file for EDA\n",
    "#Submit the link"
   ]
  },
  {
   "cell_type": "code",
   "execution_count": null,
   "id": "24a13509",
   "metadata": {},
   "outputs": [],
   "source": []
  }
 ],
 "metadata": {
  "kernelspec": {
   "display_name": "Python (dojo-env)",
   "language": "python",
   "name": "dojo-env"
  },
  "language_info": {
   "codemirror_mode": {
    "name": "ipython",
    "version": 3
   },
   "file_extension": ".py",
   "mimetype": "text/x-python",
   "name": "python",
   "nbconvert_exporter": "python",
   "pygments_lexer": "ipython3",
   "version": "3.7.12"
  },
  "toc": {
   "base_numbering": 1,
   "nav_menu": {},
   "number_sections": false,
   "sideBar": true,
   "skip_h1_title": false,
   "title_cell": "Table of Contents",
   "title_sidebar": "Contents",
   "toc_cell": false,
   "toc_position": {},
   "toc_section_display": true,
   "toc_window_display": true
  }
 },
 "nbformat": 4,
 "nbformat_minor": 5
}
