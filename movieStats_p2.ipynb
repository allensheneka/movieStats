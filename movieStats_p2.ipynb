{
 "cells": [
  {
   "cell_type": "markdown",
   "id": "c97e6411",
   "metadata": {},
   "source": [
    "## Part 2\n",
    "\n",
    "Use TMDb API to collect budget, revenue, and MPAA Rating (G/PG/PG-13/R) or \"Certification\" data for analysis."
   ]
  },
  {
   "cell_type": "code",
   "execution_count": null,
   "id": "d67592c4",
   "metadata": {},
   "outputs": [],
   "source": [
    "# import libraries"
   ]
  },
  {
   "cell_type": "code",
   "execution_count": null,
   "id": "abea87dc",
   "metadata": {},
   "outputs": [],
   "source": [
    "# perform a test extraction of movies that started in 2000 or 2001\n",
    "\n",
    "# Each year should be saved as a separate .csv.gz file\n",
    "\n",
    "##Hint: Use the two custom functions from the lessons (Intro to TMDB API, \n",
    "## and Efficient TMDB API Calls).  Be sure to define these functions prior to \n",
    "##calling them in your code!\n",
    "\n",
    "#1. One function will add the certification (MPGG Rating) to movie.info\n",
    "#2. The other function will help you append/extend a JSON file with Python\n",
    "\n",
    "##Hint: Ideally you can organize the code segments from the previous lesson to \n",
    "##create an outer and inner loop, but if you get stuck, you can complete 1 year at at time.\n",
    "\n",
    "#1. Once you have retrieved and saved the final results to 2 separate .csv.gz files, \n",
    "#move on to a new Exploratory Data Analysis notebook to explore the following questions.\n",
    "\n",
    "#Exploratory Data Analysis\n",
    "#1. Load in your csv.gz's of results for each year extracted.\n",
    "#2. Concatenate the data into 1 dataframe for the remainder of the analysis.\n",
    "#3. Once you have your data from the API, they would like you to perform some light EDA to show:\n",
    "#3a.How many movies had at least some valid financial information (values > 0 for budget OR revenue)?\n",
    "#3b.Please exclude any movies with 0's for budget AND revenue from the remaining visualizations.\n",
    "#3c. How many movies are there in each of the certification categories (G/PG/PG-13/R)?\n",
    "#3d. What is the average revenue per certification category?\n",
    "#3e. What is the average budget per certification category?"
   ]
  }
 ],
 "metadata": {
  "kernelspec": {
   "display_name": "Python (dojo-env)",
   "language": "python",
   "name": "dojo-env"
  },
  "language_info": {
   "codemirror_mode": {
    "name": "ipython",
    "version": 3
   },
   "file_extension": ".py",
   "mimetype": "text/x-python",
   "name": "python",
   "nbconvert_exporter": "python",
   "pygments_lexer": "ipython3",
   "version": "3.7.12"
  },
  "toc": {
   "base_numbering": 1,
   "nav_menu": {},
   "number_sections": false,
   "sideBar": true,
   "skip_h1_title": false,
   "title_cell": "Table of Contents",
   "title_sidebar": "Contents",
   "toc_cell": false,
   "toc_position": {},
   "toc_section_display": true,
   "toc_window_display": true
  }
 },
 "nbformat": 4,
 "nbformat_minor": 5
}
