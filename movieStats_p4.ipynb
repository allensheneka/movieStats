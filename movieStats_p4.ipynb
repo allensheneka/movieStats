{
 "cells": [
  {
   "cell_type": "markdown",
   "id": "2139d6d1",
   "metadata": {},
   "source": [
    "# Project 3, Part 4 - Hypothesis Testing\n",
    "\n",
    "## Author:  Sheneka Allen\n",
    "\n"
   ]
  },
  {
   "cell_type": "code",
   "execution_count": null,
   "id": "b915e05f",
   "metadata": {},
   "outputs": [],
   "source": [
    "# For part 4 of the project, you will be using your MySQL database from part 3 to answer meaningful questions for your stakeholder. They want you to use your hypothesis testing and statistics knowledge to answer 3 questions about what makes a successful movie.\n",
    "# Questions to Answer\n",
    "\n",
    "# The stakeholder's first question is: does the MPAA rating of a movie (G/PG/PG-13/R) affect how much revenue the movie generates?\n",
    "\n",
    "# They want you to perform a statistical test to get a mathematically-supported answer.\n",
    "# They want you to report if you found a significant difference between ratings.\n",
    "# If so, what was the p-value of you analysis?\n",
    "# And which rating earns the most revenue?\n",
    "# They want you to prepare a visualization that supports your finding.\n",
    "# It is then up to you to think of 2 additional hypotheses to test that your stakeholder may want to know.\n",
    "\n",
    "# Some example hypotheses you could test:\n",
    "\n",
    "# Do movies that are over 2.5 hours long earn more revenue than movies that are 1.5 hours long (or less)?\n",
    "# Do movies released in 2020 earn less revenue than movies released in 2018?\n",
    "# How do the years compare for movie ratings?\n",
    "# Do some movie genres earn more revenue than others?\n",
    "# Are some genres higher rated than others?\n",
    "# etc.\n",
    "# Specifications\n",
    "\n",
    "# Your Data\n",
    "\n",
    "# A critical first step for this assignment will be to retrieve additional movie data to add to your SQL database.\n",
    "# You will want to use the TMDB API again and extract data for additional years.\n",
    "# However, trying to extract the TMDB data for all movies from 2000-2022 could take >24 hours!!\n",
    "# To address this issue, you should EITHER: \n",
    "# Define a smaller (but logical) period of time to use for your analyses (e.g. last 10 years, 2010-2019 (pre-pandemic, etc). \n",
    "# OR coordinate with cohort-mates and divide the API calls so that you can all download the data for a smaller number of years and then share your downloaded JSON data.\n",
    "# Deliverables\n",
    "\n",
    "# You should use the same project repository you have been using for Parts 1-3 (for your portfolio).\n",
    "# Create a new notebook in your project repository just for the hypothesis testing (like \"Part 4 - Hypothesis Testing.ipynb\")\n",
    "# Make sure the results and visualization for all 3 hypotheses are in your notebook.\n",
    "# Please submit the link to your GitHub repository for this assignment."
   ]
  }
 ],
 "metadata": {
  "kernelspec": {
   "display_name": "Python (dojo-env)",
   "language": "python",
   "name": "dojo-env"
  },
  "language_info": {
   "codemirror_mode": {
    "name": "ipython",
    "version": 3
   },
   "file_extension": ".py",
   "mimetype": "text/x-python",
   "name": "python",
   "nbconvert_exporter": "python",
   "pygments_lexer": "ipython3",
   "version": "3.7.12"
  },
  "toc": {
   "base_numbering": 1,
   "nav_menu": {},
   "number_sections": false,
   "sideBar": true,
   "skip_h1_title": false,
   "title_cell": "Table of Contents",
   "title_sidebar": "Contents",
   "toc_cell": false,
   "toc_position": {},
   "toc_section_display": true,
   "toc_window_display": true
  }
 },
 "nbformat": 4,
 "nbformat_minor": 5
}
